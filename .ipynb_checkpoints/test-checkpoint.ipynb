{
 "cells": [
  {
   "cell_type": "markdown",
   "metadata": {},
   "source": [
    "# Introduction"
   ]
  },
  {
   "cell_type": "markdown",
   "metadata": {},
   "source": [
    "### Imports"
   ]
  },
  {
   "cell_type": "code",
   "execution_count": 1,
   "metadata": {},
   "outputs": [
    {
     "name": "stderr",
     "output_type": "stream",
     "text": [
      "/Users/marshallmamiya/anaconda3/lib/python3.7/site-packages/matplotlib/__init__.py:886: MatplotlibDeprecationWarning: \n",
      "examples.directory is deprecated; in the future, examples will be found relative to the 'datapath' directory.\n",
      "  \"found relative to the 'datapath' directory.\".format(key))\n"
     ]
    }
   ],
   "source": [
    "\n",
    "import pandas as pd\n",
    "import numpy as np\n",
    "import matplotlib.pyplot as plt\n",
    "import seaborn as sns\n",
    "%matplotlib inline\n",
    "\n",
    "# Options for pandas\n",
    "pd.options.display.max_columns = 150\n",
    "pd.options.display.max_rows = 150"
   ]
  },
  {
   "cell_type": "markdown",
   "metadata": {
    "toc": true
   },
   "source": [
    "<h1>Table of Contents<span class=\"tocSkip\"></span></h1>\n",
    "<div class=\"toc\"><ul class=\"toc-item\"><li><span><a href=\"#Introduction\" data-toc-modified-id=\"Introduction-1\"><span class=\"toc-item-num\">1&nbsp;&nbsp;</span>Introduction</a></span><ul class=\"toc-item\"><li><ul class=\"toc-item\"><li><span><a href=\"#Imports\" data-toc-modified-id=\"Imports-1.0.1\"><span class=\"toc-item-num\">1.0.1&nbsp;&nbsp;</span>Imports</a></span></li></ul></li></ul></li></ul></div>"
   ]
  },
  {
   "cell_type": "code",
   "execution_count": 56,
   "metadata": {},
   "outputs": [],
   "source": [
    "from bs4 import BeautifulSoup\n",
    "from selenium import webdriver\n",
    "from datetime import datetime\n",
    "import time\n",
    "import re\n",
    "import csv\n",
    "from utils import surfline_spot_scraper\n",
    "import os.path\n",
    "\n",
    "def surfline_scraper(*args, **kwargs):\n",
    "    #spot names and page urls to be scraped\n",
    "    # spot_url_dict = {\n",
    "    #     'malibu_close': 'https://www.surfline.com/surf-report/malibu-close-up/5cbde6df477f8600012f498d',\n",
    "    #     'hbpier_ss': 'https://www.surfline.com/surf-report/hb-pier-southside/5977abb3b38c2300127471ec',\n",
    "    #     #multi-cams spots\n",
    "    #     'hbpier_ns': 'https://www.surfline.com/surf-report/hb-pier-northside/5842041f4e65fad6a7708827',\n",
    "    #     'salt_creek': 'https://www.surfline.com/surf-report/salt-creek/5842041f4e65fad6a770882e'\n",
    "    #     }\n",
    "    # chrome_options = webdriver.ChromeOptions()\n",
    "    # chrome_options.add_argument('--headless')\n",
    "    # chrome_options.add_argument('--no-sandbox')\n",
    "    # chrome_options.add_argument('--disable-dev-shm-usage')\n",
    "    \n",
    "\n",
    "    # for spot, url in spot_url_dict.items():\n",
    "    #     print('Scraping {} ... In Progress'.format(spot))\n",
    "    #     driver = webdriver.Chrome(options=chrome_options)\n",
    "    #     driver.get(url)\n",
    "    #     soup = BeautifulSoup(driver.page_source, 'html.parser')\n",
    "    #     #init scraper with page html and chrome driver (see utils.py)\n",
    "    #     scraper = surfline_spot_scraper(soup, driver)\n",
    "    #     #returns scraped data\n",
    "    #     spot_dict = scraper.spot_dict()\n",
    "    #     print('Scraping Numerical Data ... Done')\n",
    "    #     #screenshots cam footage and places png file to screenshot/{spot}/.png\n",
    "    #     scraper.cam_screenshot(spot)\n",
    "    #     print('Scraping Screenshot ... Done')\n",
    "    #     driver.close()\n",
    "        \n",
    "\n",
    "    #     #filename for csv file\n",
    "    #     spot_dir = 'data/'+spot+'.csv'\n",
    "\n",
    "    #     #append dictionary to respective spot csv file\n",
    "    #     if os.path.isfile(spot_dir):\n",
    "    #         with open(spot_dir, 'a') as f:\n",
    "    #             w = csv.DictWriter(f, spot_dict.keys())\n",
    "    #             w.writerow(spot_dict)\n",
    "    #     else:\n",
    "    #         #init csv file with column header\n",
    "    #         with open(spot_dir, 'w') as f:\n",
    "    #             w = csv.DictWriter(f, spot_dict.keys())\n",
    "    #             w.writeheader()\n",
    "    #             w.writerow(spot_dict)\n",
    "        \n",
    "        # print('Scraping {} ... Done'.format(spot))\n",
    "        # print()\n",
    "        # driver.quit()\n",
    "    driver = webdriver.Chrome()\n",
    "    url = 'https://www.surfline.com/surf-report/hb-pier-southside/5977abb3b38c2300127471ec'\n",
    "    driver.get(url)\n",
    "    soup = BeautifulSoup(driver.page_source, 'html.parser')\n",
    "    driver.quit()\n",
    "    return soup\n",
    "    \n",
    "soup = surfline_scraper()"
   ]
  },
  {
   "cell_type": "code",
   "execution_count": 41,
   "metadata": {},
   "outputs": [
    {
     "data": {
      "text/plain": [
       "'SSW 211º '"
      ]
     },
     "execution_count": 41,
     "metadata": {},
     "output_type": "execute_result"
    }
   ],
   "source": [
    "raw_degrees"
   ]
  },
  {
   "cell_type": "code",
   "execution_count": 113,
   "metadata": {},
   "outputs": [
    {
     "data": {
      "text/html": [
       "<div>\n",
       "<style scoped>\n",
       "    .dataframe tbody tr th:only-of-type {\n",
       "        vertical-align: middle;\n",
       "    }\n",
       "\n",
       "    .dataframe tbody tr th {\n",
       "        vertical-align: top;\n",
       "    }\n",
       "\n",
       "    .dataframe thead th {\n",
       "        text-align: right;\n",
       "    }\n",
       "</style>\n",
       "<table border=\"1\" class=\"dataframe\">\n",
       "  <thead>\n",
       "    <tr style=\"text-align: right;\">\n",
       "      <th></th>\n",
       "      <th>scraped_time</th>\n",
       "      <th>report_update_time</th>\n",
       "      <th>condition</th>\n",
       "      <th>surf_height</th>\n",
       "      <th>swell_one_ft</th>\n",
       "      <th>swell_one_secs</th>\n",
       "      <th>swell_one_degrees</th>\n",
       "      <th>swell_two_ft</th>\n",
       "      <th>swell_two_secs</th>\n",
       "      <th>swell_two_degrees</th>\n",
       "      <th>swell_three_ft</th>\n",
       "      <th>swell_three_secs</th>\n",
       "      <th>swell_three_degrees</th>\n",
       "      <th>current_tide</th>\n",
       "      <th>local_extrema_tide_ft</th>\n",
       "      <th>local_extrema_tide_time</th>\n",
       "      <th>wind_mph</th>\n",
       "      <th>wind_degrees</th>\n",
       "      <th>air_temp_f</th>\n",
       "      <th>ocean_temp_f</th>\n",
       "      <th>first_light</th>\n",
       "      <th>sunrise</th>\n",
       "      <th>sunset</th>\n",
       "      <th>last_light</th>\n",
       "      <th>description</th>\n",
       "    </tr>\n",
       "  </thead>\n",
       "  <tbody>\n",
       "    <tr>\n",
       "      <th>0</th>\n",
       "      <td>2020-01-21 19:31:20.628557</td>\n",
       "      <td>1900-01-01 13:39:00</td>\n",
       "      <td>FAIR</td>\n",
       "      <td>3.5</td>\n",
       "      <td>0.7</td>\n",
       "      <td>15</td>\n",
       "      <td>262</td>\n",
       "      <td>0.6</td>\n",
       "      <td>15</td>\n",
       "      <td>193</td>\n",
       "      <td>NaN</td>\n",
       "      <td>NaN</td>\n",
       "      <td>NaN</td>\n",
       "      <td>3.5</td>\n",
       "      <td>3.6</td>\n",
       "      <td>1900-01-01 20:15:00</td>\n",
       "      <td>8.0</td>\n",
       "      <td>271.0</td>\n",
       "      <td>58.0</td>\n",
       "      <td>58.0</td>\n",
       "      <td>1900-01-01 06:29:00</td>\n",
       "      <td>1900-01-01 06:55:00</td>\n",
       "      <td>1900-01-01 17:12:00</td>\n",
       "      <td>1900-01-01 17:39:00</td>\n",
       "      <td>Afternoon Report for North OC: More NW swell m...</td>\n",
       "    </tr>\n",
       "    <tr>\n",
       "      <th>1</th>\n",
       "      <td>2020-01-21 21:43:09.283253</td>\n",
       "      <td>1900-01-01 13:39:00</td>\n",
       "      <td>FAIR</td>\n",
       "      <td>3.5</td>\n",
       "      <td>0.7</td>\n",
       "      <td>15</td>\n",
       "      <td>262</td>\n",
       "      <td>0.7</td>\n",
       "      <td>15</td>\n",
       "      <td>262</td>\n",
       "      <td>0.7</td>\n",
       "      <td>15.0</td>\n",
       "      <td>262.0</td>\n",
       "      <td>3.3</td>\n",
       "      <td>2.1</td>\n",
       "      <td>1900-01-01 00:49:00</td>\n",
       "      <td>6.0</td>\n",
       "      <td>270.0</td>\n",
       "      <td>58.0</td>\n",
       "      <td>58.0</td>\n",
       "      <td>1900-01-01 06:29:00</td>\n",
       "      <td>1900-01-01 06:55:00</td>\n",
       "      <td>1900-01-01 17:12:00</td>\n",
       "      <td>1900-01-01 17:39:00</td>\n",
       "      <td>Afternoon Report for North OC: More NW swell m...</td>\n",
       "    </tr>\n",
       "  </tbody>\n",
       "</table>\n",
       "</div>"
      ],
      "text/plain": [
       "                 scraped_time   report_update_time condition  surf_height  \\\n",
       "0  2020-01-21 19:31:20.628557  1900-01-01 13:39:00      FAIR          3.5   \n",
       "1  2020-01-21 21:43:09.283253  1900-01-01 13:39:00      FAIR          3.5   \n",
       "\n",
       "   swell_one_ft  swell_one_secs  swell_one_degrees  swell_two_ft  \\\n",
       "0           0.7              15                262           0.6   \n",
       "1           0.7              15                262           0.7   \n",
       "\n",
       "   swell_two_secs  swell_two_degrees  swell_three_ft  swell_three_secs  \\\n",
       "0              15                193             NaN               NaN   \n",
       "1              15                262             0.7              15.0   \n",
       "\n",
       "   swell_three_degrees  current_tide  local_extrema_tide_ft  \\\n",
       "0                  NaN           3.5                    3.6   \n",
       "1                262.0           3.3                    2.1   \n",
       "\n",
       "  local_extrema_tide_time  wind_mph  wind_degrees  air_temp_f  ocean_temp_f  \\\n",
       "0     1900-01-01 20:15:00       8.0         271.0        58.0          58.0   \n",
       "1     1900-01-01 00:49:00       6.0         270.0        58.0          58.0   \n",
       "\n",
       "           first_light              sunrise               sunset  \\\n",
       "0  1900-01-01 06:29:00  1900-01-01 06:55:00  1900-01-01 17:12:00   \n",
       "1  1900-01-01 06:29:00  1900-01-01 06:55:00  1900-01-01 17:12:00   \n",
       "\n",
       "            last_light                                        description  \n",
       "0  1900-01-01 17:39:00  Afternoon Report for North OC: More NW swell m...  \n",
       "1  1900-01-01 17:39:00  Afternoon Report for North OC: More NW swell m...  "
      ]
     },
     "execution_count": 113,
     "metadata": {},
     "output_type": "execute_result"
    }
   ],
   "source": [
    "df = pd.read_csv('data/hbpier_ss.csv')\n",
    "df.head()"
   ]
  },
  {
   "cell_type": "code",
   "execution_count": 127,
   "metadata": {
    "scrolled": true
   },
   "outputs": [
    {
     "data": {
      "text/plain": [
       "[<span class=\"quiver-reading-description\">Waist to chest high</span>,\n",
       " <span class=\"quiver-reading-description\"><span>High tide 3.6ft<br/>at 08:15pm</span></span>,\n",
       " <span class=\"quiver-reading-description\">W (271°)</span>]"
      ]
     },
     "execution_count": 127,
     "metadata": {},
     "output_type": "execute_result"
    }
   ],
   "source": [
    "soup.find_all('span', class_='quiver-reading-description')[1].text"
   ]
  }
 ],
 "metadata": {
  "kernelspec": {
   "display_name": "Python 3",
   "language": "python",
   "name": "python3"
  },
  "language_info": {
   "codemirror_mode": {
    "name": "ipython",
    "version": 3
   },
   "file_extension": ".py",
   "mimetype": "text/x-python",
   "name": "python",
   "nbconvert_exporter": "python",
   "pygments_lexer": "ipython3",
   "version": "3.7.1"
  },
  "toc": {
   "base_numbering": 1,
   "nav_menu": {},
   "number_sections": true,
   "sideBar": true,
   "skip_h1_title": false,
   "title_cell": "Table of Contents",
   "title_sidebar": "Contents",
   "toc_cell": true,
   "toc_position": {},
   "toc_section_display": true,
   "toc_window_display": false
  },
  "varInspector": {
   "cols": {
    "lenName": 16,
    "lenType": 16,
    "lenVar": 40
   },
   "kernels_config": {
    "python": {
     "delete_cmd_postfix": "",
     "delete_cmd_prefix": "del ",
     "library": "var_list.py",
     "varRefreshCmd": "print(var_dic_list())"
    },
    "r": {
     "delete_cmd_postfix": ") ",
     "delete_cmd_prefix": "rm(",
     "library": "var_list.r",
     "varRefreshCmd": "cat(var_dic_list()) "
    }
   },
   "types_to_exclude": [
    "module",
    "function",
    "builtin_function_or_method",
    "instance",
    "_Feature"
   ],
   "window_display": false
  }
 },
 "nbformat": 4,
 "nbformat_minor": 2
}
