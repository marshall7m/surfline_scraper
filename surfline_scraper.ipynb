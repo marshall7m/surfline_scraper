{
 "cells": [
  {
   "cell_type": "markdown",
   "metadata": {
    "toc": true
   },
   "source": [
    "<h1>Table of Contents<span class=\"tocSkip\"></span></h1>\n",
    "<div class=\"toc\"><ul class=\"toc-item\"><li><span><a href=\"#Introduction\" data-toc-modified-id=\"Introduction-1\"><span class=\"toc-item-num\">1&nbsp;&nbsp;</span>Introduction</a></span></li></ul></div>"
   ]
  },
  {
   "cell_type": "markdown",
   "metadata": {},
   "source": [
    "# Introduction"
   ]
  },
  {
   "cell_type": "code",
   "execution_count": 1,
   "metadata": {},
   "outputs": [],
   "source": [
    "from splinter import Browser\n",
    "from selenium.webdriver.support.ui import WebDriverWait\n",
    "from bs4 import BeautifulSoup\n",
    "from selenium import webdriver\n",
    "import pandas as pd\n",
    "import time\n",
    "from datetime import datetime\n",
    "from sys import getsizeof\n",
    "import re"
   ]
  },
  {
   "cell_type": "code",
   "execution_count": 6,
   "metadata": {},
   "outputs": [],
   "source": [
    "def surfline_scraper(url):\n",
    "\n",
    "    #init browser\n",
    "    driver = webdriver.Chrome()\n",
    "    driver.get(url)\n",
    "    soup = BeautifulSoup(driver.page_source, 'html.parser')\n",
    "\n",
    "    scraped_datetime = datetime.now()\n",
    "    time_update_str = soup.find('div', class_=\"quiver-forecaster-profile__update-container\").find('span').contents[3]\n",
    "    time_update = datetime.strptime(re.findall(r'\\d+:\\d+[pa]m', time_update_str)[0], '%I:%M%p')\n",
    "\n",
    "    condition = soup.find('div', class_='sl-spot-report').contents[0].text\n",
    "\n",
    "    surf_height_range = list(map(float, re.findall(r'\\d+', soup.find('span', class_='quiver-surf-height').contents[0])))\n",
    "    surf_height = sum(surf_height_range) / len(surf_height_range)\n",
    "\n",
    "    swell_one = list(map(float, re.findall(r'\\d+\\.\\d+|\\d+', soup.find('div', class_='sl-condition-stats__swells').contents[0].text)))\n",
    "    swell_one_ft = swell_one[0]\n",
    "    swell_one_secs = swell_one[1]\n",
    "    swell_one_degrees = swell_one[2]\n",
    "\n",
    "    swell_two = list(map(float, re.findall(r'\\d+\\.\\d+|\\d+', soup.find('div', class_='sl-condition-stats__swells').contents[1].text)))\n",
    "    swell_two_ft = swell_two[0]\n",
    "    swell_two_secs = swell_two[1]\n",
    "    swell_two_degrees = swell_two[2]\n",
    "\n",
    "    swell_three = list(map(float, re.findall(r'\\d+\\.\\d+|\\d+', soup.find('div', class_='sl-condition-stats__swells').contents[2].text)))\n",
    "    swell_three_ft = swell_three[0]\n",
    "    swell_three_secs = swell_three[1]\n",
    "    swell_three_degrees = swell_three[2]               \n",
    "\n",
    "    wind_mph = float(re.findall(r'\\d+', soup.find_all('span', class_='sl-reading')[1].text)[0])\n",
    "    wind_degrees = float(re.findall(r'\\d+', soup.find_all('span', class_='sl-reading-description')[2].text)[0])\n",
    "\n",
    "    tide_current = float(soup.find('span', class_='sl-reading').contents[0])\n",
    "    tide_local_extrema = soup.find_all('span', class_='sl-reading-description')[1].text\n",
    "    tide_local_extrema_ft = float(re.findall(r'-?\\d+\\.\\d+', tide_local_extrema)[0])\n",
    "    tide_local_extrema_time = datetime.strptime(re.findall(r'\\d+:\\d+[pa]m', tide_local_extrema)[0], '%I:%M%p')\n",
    "\n",
    "    weather = float(soup.find('div', class_='sl-wetsuit-recommender__conditions__weather').find('div').contents[1])\n",
    "    water_temp_range = soup.find('div', class_='sl-wetsuit-recommender__conditions__water').find('div')\n",
    "    water_temp = (float(water_temp_range.contents[1]) + int(water_temp_range.contents[5])) / 2\n",
    "\n",
    "    day_light_attr = soup.find('table', class_='sl-forecast-graphs__table sl-forecast-graphs__table--sunlight-times').find_all('td')\n",
    "    first_light = datetime.strptime(day_light_attr[1].text, '%I:%M%p')\n",
    "    sunrise = datetime.strptime(day_light_attr[3].text, '%I:%M%p')\n",
    "    sunset = datetime.strptime(day_light_attr[5].text, '%I:%M%p')\n",
    "    last_light = datetime.strptime(day_light_attr[7].text, '%I:%M%p')\n",
    "\n",
    "    description = ' '.join(p.text for p in soup.find('div', class_='sl-spot-report').find_all('p')).replace('\\n', '').replace('\\xa0', '')\n",
    "\n",
    "    #init cursor location on chart header above surf cam video\n",
    "    element = driver.find_elements_by_xpath('//div[@class=\"sl-forecast-header__nav__page-level__link__text\"]')[2]\n",
    "    action = webdriver.common.action_chains.ActionChains(driver)\n",
    "\n",
    "    #move cursor to surf cam block\n",
    "    action.move_to_element_with_offset(element, 5, 200)\n",
    "\n",
    "    #start surf cam video\n",
    "    action.click()\n",
    "    action.perform()\n",
    "    \n",
    "\n",
    "    ad_button = soup.find('div', class_=\"jw-icon jw-icon-inline jw-button-color jw-reset jw-icon-playback\")['aria-label']\n",
    "\n",
    "    #Check for when the advertisement stops\n",
    "    while ad_button != 'Stop':\n",
    "        time.sleep(10)\n",
    "        ad_button = BeautifulSoup(driver.page_source, 'html.parser').find('div', class_=\"jw-icon jw-icon-inline jw-button-color jw-reset jw-icon-playback\")['aria-label']\n",
    "        print(ad_button)\n",
    "    \n",
    "    #full screen surf cam\n",
    "    action.double_click()\n",
    "    action.perform()\n",
    "    ad_button = BeautifulSoup(driver.page_source, 'html.parser').find('div', class_=\"jw-icon jw-icon-inline jw-button-color jw-reset jw-icon-playback\")['aria-label']\n",
    "    \n",
    "    #Check for when the advertisement 2 stops\n",
    "    while ad_button != 'Stop':\n",
    "        time.sleep(10)\n",
    "        ad_button = BeautifulSoup(driver.page_source, 'html.parser').find('div', class_=\"jw-icon jw-icon-inline jw-button-color jw-reset jw-icon-playback\")['aria-label']\n",
    "        print(ad_button)\n",
    "    time.sleep(4)\n",
    "    \n",
    "    #save surf cam screen shot\n",
    "    driver.save_screenshot('{}{}{}_{}_{}.png'.format(scraped_datetime.year, scraped_datetime.month, \n",
    "                                                     scraped_datetime.day, scraped_datetime.hour, \n",
    "                                                     scraped_datetime.minute))\n",
    "\n",
    "    driver.close()\n",
    "    driver.quit()\n",
    "\n",
    "    surfline_dict = {\n",
    "        'scraped_time': scraped_datetime,\n",
    "        'time_updated': time_update,\n",
    "        'surf_height': surf_height,\n",
    "        'swell_one_ft': swell_one_ft,\n",
    "        'swell_one_secs': swell_one_secs,\n",
    "        'swell_one_degrees': swell_one_degrees,\n",
    "        'swell_two_ft': swell_two_ft,\n",
    "        'swell_two_secs': swell_two_secs,\n",
    "        'swell_two_degrees': swell_two_degrees,\n",
    "        'swell_three_ft': swell_three_ft,\n",
    "        'swell_three_secs': swell_three_secs,\n",
    "        'swell_three_degrees': swell_three_degrees,\n",
    "        'tide_current': tide_current,\n",
    "        'tide_local_extrema': tide_local_extrema_ft,\n",
    "        'tide_local_extrema_time': tide_local_extrema_time,\n",
    "        'wind_mph': wind_mph,\n",
    "        'wind_degrees': wind_degrees,\n",
    "        'condition': condition,\n",
    "        'weather': weather,\n",
    "        'water_temp': water_temp,\n",
    "        'first_light': first_light,\n",
    "        'sunrise': sunrise,\n",
    "        'sunset': sunset,\n",
    "        'last_light': last_light,\n",
    "        'description': description\n",
    "        }"
   ]
  },
  {
   "cell_type": "code",
   "execution_count": 7,
   "metadata": {},
   "outputs": [
    {
     "name": "stdout",
     "output_type": "stream",
     "text": [
      "Pause\n",
      "Pause\n",
      "Pause\n",
      "Stop\n",
      "Play\n",
      "Pause\n",
      "Stop\n"
     ]
    }
   ],
   "source": [
    "url = 'https://www.surfline.com/surf-report/malibu-overview/5c9134bb8e8d940001706997'\n",
    "surfline_scraper(url)"
   ]
  }
 ],
 "metadata": {
  "kernelspec": {
   "display_name": "Python 3",
   "language": "python",
   "name": "python3"
  },
  "language_info": {
   "codemirror_mode": {
    "name": "ipython",
    "version": 3
   },
   "file_extension": ".py",
   "mimetype": "text/x-python",
   "name": "python",
   "nbconvert_exporter": "python",
   "pygments_lexer": "ipython3",
   "version": "3.7.1"
  },
  "toc": {
   "base_numbering": 1,
   "nav_menu": {},
   "number_sections": true,
   "sideBar": true,
   "skip_h1_title": false,
   "title_cell": "Table of Contents",
   "title_sidebar": "Contents",
   "toc_cell": true,
   "toc_position": {},
   "toc_section_display": true,
   "toc_window_display": false
  },
  "varInspector": {
   "cols": {
    "lenName": 16,
    "lenType": 16,
    "lenVar": 40
   },
   "kernels_config": {
    "python": {
     "delete_cmd_postfix": "",
     "delete_cmd_prefix": "del ",
     "library": "var_list.py",
     "varRefreshCmd": "print(var_dic_list())"
    },
    "r": {
     "delete_cmd_postfix": ") ",
     "delete_cmd_prefix": "rm(",
     "library": "var_list.r",
     "varRefreshCmd": "cat(var_dic_list()) "
    }
   },
   "types_to_exclude": [
    "module",
    "function",
    "builtin_function_or_method",
    "instance",
    "_Feature"
   ],
   "window_display": false
  }
 },
 "nbformat": 4,
 "nbformat_minor": 2
}
